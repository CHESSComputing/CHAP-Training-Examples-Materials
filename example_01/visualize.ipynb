{
 "cells": [
  {
   "cell_type": "markdown",
   "id": "88d3fb46-348e-4935-b992-355d42c6f976",
   "metadata": {},
   "source": [
    "# Introduction to `matplotlib`\n",
    "This notebook provides a basic introduction to plotting with the most popular graphing package in python, [`matplotlib`](https://matplotlib.org), in the context of an example: visualizing the data output from the first CHAP example pipeline."
   ]
  },
  {
   "cell_type": "markdown",
   "id": "a33c04f8-26f9-4713-9c58-92c9d72a8542",
   "metadata": {},
   "source": [
    "## Notebook setup\n",
    "1. Import the modules we will use.\n",
    "1. Run the [ipython magics](https://ipython.readthedocs.io/en/stable/interactive/magics.html) to make plots appear nicely in the notebook.\n",
    "1. Load the output data from the example pipeline to visualize."
   ]
  },
  {
   "cell_type": "code",
   "execution_count": null,
   "id": "b24a016a-6b59-44af-ad0c-c8b6968105b8",
   "metadata": {},
   "outputs": [],
   "source": [
    "# Import modules\n",
    "import matplotlib.pyplot as plt\n",
    "import numpy as np"
   ]
  },
  {
   "cell_type": "code",
   "execution_count": null,
   "id": "8d64887c-1035-49f6-b895-0760a6bb8faf",
   "metadata": {},
   "outputs": [],
   "source": [
    "# ipython magic for nice interactive matplotlib plots\n",
    "# (you can read more about ipython magics here: https://ipython.readthedocs.io/en/stable/interactive/magics.html)\n",
    "%matplotlib widget"
   ]
  },
  {
   "cell_type": "code",
   "execution_count": null,
   "id": "eedb32d9-06d8-459a-b0a7-5071a780d384",
   "metadata": {},
   "outputs": [],
   "source": [
    "# Load data\n",
    "npz_filename = 'output/azimuthally_integrated.npz'\n",
    "npz_file = np.load(npz_filename)\n",
    "data = {name: value for name, value in npz_file.items()}\n",
    "npz_file.close()"
   ]
  },
  {
   "cell_type": "markdown",
   "id": "7a177208-1f94-457f-8856-e263266958bc",
   "metadata": {},
   "source": [
    "## Inspect data"
   ]
  },
  {
   "cell_type": "markdown",
   "id": "05a95d03-ec49-4ec4-a23d-99cbb5276cf3",
   "metadata": {},
   "source": [
    "## 2D Plots of Diffraction Patterns"
   ]
  },
  {
   "cell_type": "code",
   "execution_count": null,
   "id": "e3aa7b48-34dc-43d0-9d0e-2b0ec4b2f4f1",
   "metadata": {},
   "outputs": [],
   "source": [
    "# Use an image file reader developed specifically for 2D X-ray detectors called \"FabIO\"\n",
    "# (you can read more about FabIO here: https://www.silx.org/doc/fabio/latest/index.html)\n",
    "import fabio\n",
    "\n",
    "image_file = 'input/detector_data_00.cbf'\n",
    "with fabio.open(image_file) as i:\n",
    "    image_data = i.data\n",
    "plt.imshow(image_data)"
   ]
  },
  {
   "cell_type": "code",
   "execution_count": null,
   "id": "afb0198e-64dd-4b7c-9f1f-d3f300e1d9c2",
   "metadata": {},
   "outputs": [],
   "source": [
    "# Close the current matplotlib figure before making the next one\n",
    "plt.close()"
   ]
  },
  {
   "cell_type": "markdown",
   "id": "bb3881a4-6f95-4091-9652-240139916916",
   "metadata": {},
   "source": [
    "## 1D Plots of Integrated Diffraction Patterns"
   ]
  },
  {
   "cell_type": "code",
   "execution_count": null,
   "id": "04968787-eef1-4e92-944d-c13fcbda2103",
   "metadata": {},
   "outputs": [],
   "source": [
    "# What arrays were in the npz file?\n",
    "for k, v in data.items():\n",
    "    print(f'data[\"{k}\"] is an {type(v).__name__} with shape {v.shape}')"
   ]
  },
  {
   "cell_type": "code",
   "execution_count": null,
   "id": "d058c6aa-5d8d-4a35-8945-f9b0538d299c",
   "metadata": {},
   "outputs": [],
   "source": [
    "# Plot the radial coordinate values\n",
    "plt.plot(data['radial'])\n",
    "plt.show()"
   ]
  },
  {
   "cell_type": "code",
   "execution_count": null,
   "id": "88659a9a-8257-471a-9a1f-a50791abebdf",
   "metadata": {},
   "outputs": [],
   "source": [
    "plt.close()"
   ]
  },
  {
   "cell_type": "code",
   "execution_count": null,
   "id": "7a40d88a-6e16-421e-9aa6-f4a1c5feda11",
   "metadata": {},
   "outputs": [],
   "source": [
    "# Add axis labels, a legend, and style the line\n",
    "plt.plot(data['radial'], linestyle=' ', marker='*', label='Radial Coordinate')\n",
    "plt.title('Radial Coordinate Values')\n",
    "plt.xlabel('Coordinate Index')\n",
    "plt.ylabel('Value (unknown units)')\n",
    "plt.legend()\n",
    "plt.show()"
   ]
  },
  {
   "cell_type": "code",
   "execution_count": null,
   "id": "7d56f06e-e1e6-466c-8d13-607f6e86388d",
   "metadata": {},
   "outputs": [],
   "source": [
    "plt.close()"
   ]
  },
  {
   "cell_type": "code",
   "execution_count": null,
   "id": "238869b8-46fc-45c4-861a-a4325a99fba8",
   "metadata": {},
   "outputs": [],
   "source": [
    "# Plot one of the intensity spectra against the radial coordinate values\n",
    "plt.plot(data['radial'], data['intensity'][0])\n",
    "plt.xlabel('Radial Coordinate Value')\n",
    "plt.ylabel('Integrated Intensity')\n",
    "plt.title('First Integrated Intensity Spectrum')\n",
    "plt.show()"
   ]
  },
  {
   "cell_type": "code",
   "execution_count": null,
   "id": "a5a4fb67-6b3c-4d29-9b64-9157cd75d230",
   "metadata": {},
   "outputs": [],
   "source": [
    "plt.close()"
   ]
  },
  {
   "cell_type": "markdown",
   "id": "e8b507d1-7d84-40f7-b1bd-e4286c8f23d0",
   "metadata": {},
   "source": [
    "## 2D Plots of Integrated Diffraction Patterns"
   ]
  },
  {
   "cell_type": "code",
   "execution_count": null,
   "id": "a455735b-ae67-4ae0-b8a9-ef40c6f8300e",
   "metadata": {},
   "outputs": [],
   "source": [
    "plt.pcolormesh(data['radial'], np.arange(data['intensity'].shape[0]), data['intensity'])\n",
    "plt.xlabel('Radial Coordinate Value')\n",
    "plt.ylabel('Integrated Intensity Spectrum Index')\n",
    "plt.title('All Integrated Spectra')\n",
    "plt.show()"
   ]
  },
  {
   "cell_type": "code",
   "execution_count": null,
   "id": "2d96d97f-7279-4b54-9730-59ab3d640861",
   "metadata": {},
   "outputs": [],
   "source": [
    "plt.close()"
   ]
  }
 ],
 "metadata": {
  "kernelspec": {
   "display_name": "SAXSWAXS Workflow Environment",
   "language": "python",
   "name": "saxswaxsworkflow-env"
  },
  "language_info": {
   "codemirror_mode": {
    "name": "ipython",
    "version": 3
   },
   "file_extension": ".py",
   "mimetype": "text/x-python",
   "name": "python",
   "nbconvert_exporter": "python",
   "pygments_lexer": "ipython3",
   "version": "3.9.13"
  }
 },
 "nbformat": 4,
 "nbformat_minor": 5
}
