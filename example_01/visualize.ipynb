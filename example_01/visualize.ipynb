{
 "cells": [
  {
   "cell_type": "markdown",
   "id": "88d3fb46-348e-4935-b992-355d42c6f976",
   "metadata": {},
   "source": [
    "# Introduction to `matplotlib`\n",
    "This notebook provides a basic introduction to plotting with the most popular graphing package in python, [`matplotlib`](https://matplotlib.org), in the context of an example: visualizing the data output from the first CHAP example pipeline."
   ]
  },
  {
   "cell_type": "markdown",
   "id": "a33c04f8-26f9-4713-9c58-92c9d72a8542",
   "metadata": {},
   "source": [
    "## Notebook setup\n",
    "1. Import the modules we will use.\n",
    "1. Run the [ipython magics](https://ipython.readthedocs.io/en/stable/interactive/magics.html) to make plots appear nicely in the notebook.\n",
    "1. Choose the sub-example to visualize in this notebook.\n",
    "1. Load the output data from the chosen example pipeline."
   ]
  },
  {
   "cell_type": "code",
   "execution_count": null,
   "id": "b24a016a-6b59-44af-ad0c-c8b6968105b8",
   "metadata": {},
   "outputs": [],
   "source": [
    "# Import modules\n",
    "import matplotlib.pyplot as plt\n",
    "import numpy as np"
   ]
  },
  {
   "cell_type": "code",
   "execution_count": null,
   "id": "8d64887c-1035-49f6-b895-0760a6bb8faf",
   "metadata": {},
   "outputs": [],
   "source": [
    "# ipython magic for simple inline display of matplotlib plots\n",
    "# (you can read more about ipython magics here: https://ipython.readthedocs.io/en/stable/interactive/magics.html)\n",
    "%matplotlib inline"
   ]
  },
  {
   "cell_type": "code",
   "execution_count": null,
   "id": "dd88f138-4942-4d13-9279-96725eade1f8",
   "metadata": {},
   "outputs": [],
   "source": [
    "# Choose which sub-example to visualize -- uncomment one of the following lines before running this cell:\n",
    "# sub_example = 'cbf'\n",
    "# sub_example = 'h5'"
   ]
  },
  {
   "cell_type": "code",
   "execution_count": null,
   "id": "e13f7a6d-5045-4564-851f-ac9236e994e0",
   "metadata": {},
   "outputs": [],
   "source": [
    "# Load data\n",
    "npz_filename = f'output_{sub_example}/azimuthally_integrated.npz'\n",
    "npz_file = np.load(npz_filename)\n",
    "data = {name: value for name, value in npz_file.items()}\n",
    "npz_file.close()"
   ]
  },
  {
   "cell_type": "markdown",
   "id": "7a177208-1f94-457f-8856-e263266958bc",
   "metadata": {},
   "source": [
    "## Inspect data"
   ]
  },
  {
   "cell_type": "markdown",
   "id": "05a95d03-ec49-4ec4-a23d-99cbb5276cf3",
   "metadata": {},
   "source": [
    "## 2D Plots of Diffraction Patterns"
   ]
  },
  {
   "cell_type": "code",
   "execution_count": null,
   "id": "e3aa7b48-34dc-43d0-9d0e-2b0ec4b2f4f1",
   "metadata": {},
   "outputs": [],
   "source": [
    "# Use an image file reader developed specifically for 2D X-ray detectors called \"FabIO\"\n",
    "# (you can read more about FabIO here: https://www.silx.org/doc/fabio/latest/index.html)\n",
    "# FabIO is handy because it provides a single method that can load detector\n",
    "# data as a numpy array from any of the commonly-used X-ray area detector data\n",
    "# file formats -- this means we can use the exact same code to read detector\n",
    "# data whether it was saved as .cbf, .h5, .tiff, etc.\n",
    "import fabio\n",
    "\n",
    "image_file = f'/nfs/chess/user/x-cite/data/example_01/{sub_example}/detector_data_00.{sub_example}'\n",
    "with fabio.open(image_file) as i:\n",
    "    image_data = i.data\n",
    "\n",
    "plt.imshow(image_data)\n",
    "plt.show()"
   ]
  },
  {
   "cell_type": "code",
   "execution_count": null,
   "id": "2469147a-ae79-4974-aadc-d827124d82ed",
   "metadata": {},
   "outputs": [],
   "source": [
    "# Plot the same data on a log color scale:\n",
    "import matplotlib.colors as colors\n",
    "plt.imshow(image_data, norm=colors.LogNorm())\n",
    "plt.show()"
   ]
  },
  {
   "cell_type": "code",
   "execution_count": null,
   "id": "795e939b-be9c-47b0-be5f-382e9dc0c5f1",
   "metadata": {},
   "outputs": [],
   "source": [
    "# Add a colorbar:\n",
    "plt.imshow(image_data, norm=colors.LogNorm())\n",
    "plt.colorbar()\n",
    "plt.show()"
   ]
  },
  {
   "cell_type": "markdown",
   "id": "bb3881a4-6f95-4091-9652-240139916916",
   "metadata": {},
   "source": [
    "## 1D Plots of Integrated Diffraction Patterns"
   ]
  },
  {
   "cell_type": "code",
   "execution_count": null,
   "id": "04968787-eef1-4e92-944d-c13fcbda2103",
   "metadata": {},
   "outputs": [],
   "source": [
    "# What arrays were in the npz file?\n",
    "for k, v in data.items():\n",
    "    print(f'data[\"{k}\"] is an {type(v).__name__} with shape {v.shape}')"
   ]
  },
  {
   "cell_type": "code",
   "execution_count": null,
   "id": "d058c6aa-5d8d-4a35-8945-f9b0538d299c",
   "metadata": {},
   "outputs": [],
   "source": [
    "# Plot the radial coordinate values\n",
    "plt.plot(data['radial'])\n",
    "plt.show()"
   ]
  },
  {
   "cell_type": "code",
   "execution_count": null,
   "id": "7a40d88a-6e16-421e-9aa6-f4a1c5feda11",
   "metadata": {},
   "outputs": [],
   "source": [
    "# Add axis labels, a legend, and style the line\n",
    "plt.plot(data['radial'], linestyle=' ', marker='*', label='Radial Coordinate')\n",
    "plt.title('Radial Coordinate Values')\n",
    "plt.xlabel('Coordinate Index')\n",
    "plt.ylabel('Coordinate Value (q_nm^-1)')\n",
    "plt.legend()\n",
    "plt.show()"
   ]
  },
  {
   "cell_type": "code",
   "execution_count": null,
   "id": "238869b8-46fc-45c4-861a-a4325a99fba8",
   "metadata": {},
   "outputs": [],
   "source": [
    "# Plot one of the intensity spectra against the radial coordinate values\n",
    "plt.plot(data['radial'], data['intensity'][0])\n",
    "plt.xlabel('q_nm^-1')\n",
    "plt.ylabel('Integrated Intensity')\n",
    "plt.title('First Integrated Intensity Spectrum')\n",
    "plt.show()"
   ]
  },
  {
   "cell_type": "markdown",
   "id": "e8b507d1-7d84-40f7-b1bd-e4286c8f23d0",
   "metadata": {},
   "source": [
    "## 2D Plots of Integrated Diffraction Patterns"
   ]
  },
  {
   "cell_type": "code",
   "execution_count": null,
   "id": "a455735b-ae67-4ae0-b8a9-ef40c6f8300e",
   "metadata": {},
   "outputs": [],
   "source": [
    "plt.pcolormesh(data['radial'], np.arange(data['intensity'].shape[0]), data['intensity'])\n",
    "plt.xlabel('q_nm^-1')\n",
    "plt.ylabel('Frame index')\n",
    "plt.title('All Integrated Frames')\n",
    "plt.show()"
   ]
  },
  {
   "cell_type": "markdown",
   "id": "d608a503-eeaa-4ee7-95ed-87a75a6779a6",
   "metadata": {},
   "source": [
    "## Exercises\n",
    "1. [Add axis labels & a colorbar](#Exercise-1)\n",
    "1. [Add axis labels & a legend](#Exercise-2)\n",
    "1. [Make a simplified 2D waterfall plot](#Exercise-3)"
   ]
  },
  {
   "cell_type": "markdown",
   "id": "d48adcce-b305-4667-a668-5c5611070954",
   "metadata": {},
   "source": [
    "### Exercise 1\n",
    "#### Change an axis label\n",
    "Prompt:\n",
    "The cell below contains code to plot the all the 1D intgrated diffraction patterns as an image with a log scale. Add appropriate x- and y- axis labels, a colorbar, and a title to the plot. Your result should look something like the image below.\n",
    "\n",
    "![Exercise 1](images/exercise_1.png)"
   ]
  },
  {
   "cell_type": "code",
   "execution_count": null,
   "id": "8bfb77b8-f16c-40dd-ade3-16185681d687",
   "metadata": {},
   "outputs": [],
   "source": [
    "plt.pcolormesh(data['radial'], np.arange(data['intensity'].shape[0]), data['intensity'], norm=colors.LogNorm())\n",
    "plt.show()"
   ]
  },
  {
   "cell_type": "markdown",
   "id": "8d01a212-eaab-4536-af1f-41391bc99a98",
   "metadata": {},
   "source": [
    "### Exercise 2\n",
    "Prompt:\n",
    "The cell below contains code to plot the integrated spectrum from the 5th frame of data. Add an appropriate legend label and axis labels for the data. Your result should look something like the image below.\n",
    "\n",
    "![Exercise 2](images/exercise_2.png)"
   ]
  },
  {
   "cell_type": "code",
   "execution_count": null,
   "id": "e3c616be-b669-4148-aeb5-1cce4e995c7d",
   "metadata": {},
   "outputs": [],
   "source": [
    "plt.plot(data['radial'], data['intensity'][5])\n",
    "plt.show()"
   ]
  },
  {
   "cell_type": "markdown",
   "id": "0879fe81-743d-4576-b92b-8f32db797d59",
   "metadata": {},
   "source": [
    "### Exercise 3\n",
    "Prompt:\n",
    "The cell below contains code to plot the first two integrated spectra as a simplified version of a waterfall plot. Plot every third integrated spectra in this simplified waterfall plot, add apprpriate axis labels, and a legend. Your result should look something like the image below (hint: your code should loop over the spectra to plot each third one).\n",
    "\n",
    "![Exercise 3](images/exercise_3.png)"
   ]
  },
  {
   "cell_type": "code",
   "execution_count": 97,
   "id": "729ccebe-bd94-46be-99c4-ec83c9c97b78",
   "metadata": {},
   "outputs": [
    {
     "data": {
      "image/png": "[encoded data removed]",
      "text/plain": [
       "<Figure size 640x480 with 1 Axes>"
      ]
     },
     "metadata": {},
     "output_type": "display_data"
    }
   ],
   "source": [
    "plt.plot(data['radial'], data['intensity'][0])\n",
    "plt.plot(data['radial'], data['intensity'][3] + 20)\n",
    "plt.show()"
   ]
  }
 ],
 "metadata": {
  "kernelspec": {
   "display_name": "SAXSWAXS Workflow Environment",
   "language": "python",
   "name": "saxswaxsworkflow-env"
  },
  "language_info": {
   "codemirror_mode": {
    "name": "ipython",
    "version": 3
   },
   "file_extension": ".py",
   "mimetype": "text/x-python",
   "name": "python",
   "nbconvert_exporter": "python",
   "pygments_lexer": "ipython3",
   "version": "3.9.13"
  }
 },
 "nbformat": 4,
 "nbformat_minor": 5
}
