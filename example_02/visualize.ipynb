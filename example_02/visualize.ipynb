{
 "cells": [
  {
   "cell_type": "markdown",
   "id": "88d3fb46-348e-4935-b992-355d42c6f976",
   "metadata": {},
   "source": [
    "# Visualizing tomographic reconstruction results with command line `NeXus` tools \n",
    "This notebook provides a basic introduction to viewing data in a `NeXus` file (the default output file type from a `CHAP` workflow) in a notebook or from command line. Illustrated with results from a tomography experiment analysis.\n",
    "More information on the `NeXus` format can be found at https://manual.nexusformat.org"
   ]
  },
  {
   "cell_type": "markdown",
   "id": "a33c04f8-26f9-4713-9c58-92c9d72a8542",
   "metadata": {},
   "source": [
    "## Notebook setup\n",
    "1. Import the modules we will use.\n",
    "1. Load the output data from the pyramid example pipeline."
   ]
  },
  {
   "cell_type": "code",
   "execution_count": null,
   "id": "b24a016a-6b59-44af-ad0c-c8b6968105b8",
   "metadata": {},
   "outputs": [],
   "source": [
    "# Import modules\n",
    "from nexusformat.nexus import nxload"
   ]
  },
  {
   "cell_type": "code",
   "execution_count": null,
   "id": "e13f7a6d-5045-4564-851f-ac9236e994e0",
   "metadata": {},
   "outputs": [],
   "source": [
    "# Load data\n",
    "nxs_filename = '/nfs/chess/user/x-cite/data/example_02/hollow_pyramid/combined_hollow_pyramid.nxs'\n",
    "nxroot = nxload(nxs_filename)"
   ]
  },
  {
   "cell_type": "markdown",
   "id": "7a177208-1f94-457f-8856-e263266958bc",
   "metadata": {},
   "source": [
    "## Inspect data"
   ]
  },
  {
   "cell_type": "markdown",
   "id": "14f846f3-ddcc-4af7-b122-8c536a190b0b",
   "metadata": {},
   "source": [
    "### Print the entire file tree of the loaded `NeXus` file ..."
   ]
  },
  {
   "cell_type": "code",
   "execution_count": null,
   "id": "3d2d95eb-c335-416a-b905-abad194a53b4",
   "metadata": {},
   "outputs": [],
   "source": [
    "print(nxroot.tree)"
   ]
  },
  {
   "cell_type": "markdown",
   "id": "90a2b677-5763-4d64-9a02-68688c8b9460",
   "metadata": {},
   "source": [
    "### ... or pick a path and print only a particular branch"
   ]
  },
  {
   "cell_type": "code",
   "execution_count": null,
   "id": "0a90a40f-8be9-4aba-9cef-a24f2ed9d0ad",
   "metadata": {
    "scrolled": true
   },
   "outputs": [],
   "source": [
    "# Directly by entering the actual path\n",
    "print(nxroot.hollow_pyramid.combined_data.tree)"
   ]
  },
  {
   "cell_type": "code",
   "execution_count": null,
   "id": "b28ae52f-4566-4a65-b97c-322666fb1104",
   "metadata": {
    "scrolled": true
   },
   "outputs": [],
   "source": [
    "# Or by using a path variable\n",
    "path = 'hollow_pyramid/combined_data'\n",
    "print(nxroot[path].tree)"
   ]
  },
  {
   "cell_type": "code",
   "execution_count": null,
   "id": "6dca66ce-9967-475b-a9ff-5939e357bb13",
   "metadata": {
    "scrolled": true
   },
   "outputs": [],
   "source": [
    "# Or by browsing along default paths (if available)\n",
    "\n",
    "print(f'The default NXentry path is: {nxroot.default}\\n')\n",
    "nxentry = nxroot[nxroot.default]\n",
    "print(nxentry.tree)\n",
    "\n",
    "print(f'\\nThe default object tree under the NXentry is: {nxentry.default}\\n')\n",
    "nxobject = nxentry[nxentry.default]\n",
    "print(nxobject.tree)"
   ]
  },
  {
   "cell_type": "markdown",
   "id": "05a95d03-ec49-4ec4-a23d-99cbb5276cf3",
   "metadata": {},
   "source": [
    "## Plot 2D cross sections of the reconstructed 3D image"
   ]
  },
  {
   "cell_type": "markdown",
   "id": "9071d471-fb90-4471-92b7-c21acfd0140e",
   "metadata": {},
   "source": [
    "### Inspect the default signal in an NXdata object"
   ]
  },
  {
   "cell_type": "code",
   "execution_count": null,
   "id": "736c93e5-9c45-4e43-a395-6048aa98f59b",
   "metadata": {},
   "outputs": [],
   "source": [
    "# Browse the file tree, get the reconstructed data object, and verify that it\n",
    "# is indeed a NXdata object\n",
    "nxdata = nxroot.hollow_pyramid.combined_data.data\n",
    "print(nxdata.tree)\n",
    "\n",
    "# You can see that it specifies a signal attribute, so we can inspect, use and\n",
    "# plot the default data field directly\n",
    "# Note that the \"signal\" attribute is the path to the signal (a str object),\n",
    "# whereas the \"nxsignal\" attribute is the signal data itself (a NXfield object)\n",
    "print(f'\\nThe signal name is: {nxdata.signal} {type(nxdata.signal)}')\n",
    "print(f'The default data field is of type {type(nxdata.nxsignal)}')\n",
    "\n",
    "# Under the hood, the Nexus data fields are really just NumPy array's,\n",
    "# so if you are familiar with NumPy, you can use its own functionality\n",
    "# Like printing the signal data shape\n",
    "print(f'The default data shape is: {nxdata.nxsignal.shape}')\n",
    "# Or the sum of all the data\n",
    "print(f'The sum of the default data is: {nxdata.nxsignal.sum()}')"
   ]
  },
  {
   "cell_type": "code",
   "execution_count": null,
   "id": "e3aa7b48-34dc-43d0-9d0e-2b0ec4b2f4f1",
   "metadata": {
    "scrolled": true
   },
   "outputs": [],
   "source": [
    "# You can only plot 1D or 2D data using the command line Nexus plotter\n",
    "# If the axes attributes are specified, it will automatically add axes\n",
    "# information\n",
    "nxdata = nxroot.hollow_pyramid.combined_data.data\n",
    "shape = nxdata.nxsignal.shape\n",
    "print(f'The default data axes are: {nxdata.axes}')\n",
    "print(f'The default data shape is: {nxdata.shape}\\n')\n",
    "\n",
    "# So first plot the z-axis coordinates\n",
    "nxdata.z.plot()\n",
    "\n",
    "# Then plot crosssections in each axes direction\n",
    "nxdata[shape[0]//2].plot()\n",
    "nxdata[:,shape[1]//2].plot()\n",
    "nxdata[:,:,shape[2]//2].plot()"
   ]
  }
 ],
 "metadata": {
  "kernelspec": {
   "display_name": "CHAP Example 02",
   "language": "python",
   "name": "chap_example_02"
  },
  "language_info": {
   "codemirror_mode": {
    "name": "ipython",
    "version": 3
   },
   "file_extension": ".py",
   "mimetype": "text/x-python",
   "name": "python",
   "nbconvert_exporter": "python",
   "pygments_lexer": "ipython3",
   "version": "3.10.17"
  }
 },
 "nbformat": 4,
 "nbformat_minor": 5
}
